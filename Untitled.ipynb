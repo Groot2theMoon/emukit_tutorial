{
 "cells": [
  {
   "cell_type": "code",
   "execution_count": 8,
   "id": "a4cc7f45-00e7-40c2-8699-27aca3b11475",
   "metadata": {},
   "outputs": [],
   "source": [
    "import numpy as np\n",
    "import GPy\n",
    "\n",
    "from emukit.model_wrappers import GPyModelWrapper\n",
    "from emukit.experimental_design.experimental_design_loop import ExperimentalDesignLoop\n",
    "from emukit.core import ParameterSpace, ContinuousParameter\n",
    "from emukit.core.loop import UserFunctionWrapper\n",
    "\n",
    "#%matplotlib inline\n",
    "\n",
    "import matplotlib.pyplot as plt\n",
    "import matplotlib\n",
    "matplotlib.use('TkAgg')"
   ]
  },
  {
   "cell_type": "code",
   "execution_count": 9,
   "id": "384df513-ff63-459a-80c9-ac637e94439b",
   "metadata": {},
   "outputs": [],
   "source": [
    "x_min = -30.0\n",
    "x_max = 30.0\n",
    "\n",
    "X = np.random.uniform(x_min, x_max, (10,1))\n",
    "Y = np.sin(X) + np.random.randn(10,1) * 0.05\n",
    "gpy_model = GPy.models.GPRegression(X,Y)"
   ]
  },
  {
   "cell_type": "code",
   "execution_count": 10,
   "id": "ba649e43-31d6-48b9-ac7d-e1008469a230",
   "metadata": {},
   "outputs": [],
   "source": [
    "emukit_model = GPyModelWrapper(gpy_model)\n",
    "\n",
    "# 파라미터 공간 설정 - 이 경우 하나의 연속 변수만 있음\n",
    "p = ContinuousParameter('c', x_min, x_max)\n",
    "space = ParameterSpace([p])"
   ]
  },
  {
   "cell_type": "code",
   "execution_count": 11,
   "id": "c8270948-82fd-4a51-a691-de3adf81e8f0",
   "metadata": {},
   "outputs": [],
   "source": [
    "# Emukit의 실험 설계 루프 실행\n",
    "loop = ExperimentalDesignLoop(space, emukit_model)\n",
    "loop.run_loop(np.sin, 30)"
   ]
  },
  {
   "cell_type": "code",
   "execution_count": 12,
   "id": "a1b11f96-4dc1-434c-b18c-9ebc6dfa679b",
   "metadata": {},
   "outputs": [
    {
     "data": {
      "text/plain": [
       "<matplotlib.legend.Legend at 0x17bcdea5480>"
      ]
     },
     "execution_count": 12,
     "metadata": {},
     "output_type": "execute_result"
    }
   ],
   "source": [
    "real_x = np.arange(x_min, x_max, 0.2)\n",
    "real_y = np.sin(real_x)\n",
    "\n",
    "plt.title('Learning function sin(x) with Emukit')\n",
    "plt.xlabel('x')\n",
    "plt.ylabel('y', rotation=None)\n",
    "plt.plot(real_x, real_y, c='r')\n",
    "plt.scatter(loop.loop_state.X[:, 0].tolist(), loop.loop_state.Y[:, 0].tolist())\n",
    "plt.legend(['True Function', 'Acquired Datapoints'], loc='lower right')"
   ]
  },
  {
   "cell_type": "code",
   "execution_count": 13,
   "id": "4ad22b9d-5fee-4efb-856b-5e82c18f6453",
   "metadata": {},
   "outputs": [
    {
     "data": {
      "text/plain": [
       "<matplotlib.collections.PolyCollection at 0x17bd118e530>"
      ]
     },
     "execution_count": 13,
     "metadata": {},
     "output_type": "execute_result"
    }
   ],
   "source": [
    "predicted_y = []\n",
    "predicted_std = []\n",
    "\n",
    "for x in real_x:\n",
    "    y, var = emukit_model.predict(np.array([[x]]))\n",
    "    std = np.sqrt(var)\n",
    "    predicted_y.append(y)\n",
    "    predicted_std.append(std)\n",
    "\n",
    "predicted_y = np.array(predicted_y).flatten()\n",
    "predicted_std = np.array(predicted_std).flatten()\n",
    "\n",
    "plt.figure(figsize=(10, 6))\n",
    "plt.title('Learning function sin(x) with Emukit')\n",
    "plt.xlabel('x')\n",
    "plt.ylabel('y', rotation=None)\n",
    "plt.plot(real_x, real_y, c='r')\n",
    "plt.plot(real_x, predicted_y)\n",
    "plt.legend(['True Function', 'Estimated Function'], loc='lower right')\n",
    "plt.fill_between(real_x, predicted_y - 2*predicted_std, predicted_y + 2*predicted_std, alpha=0.5)"
   ]
  },
  {
   "cell_type": "code",
   "execution_count": null,
   "id": "ff9c494d-8c51-42e0-be6d-a6aa7027e2a5",
   "metadata": {},
   "outputs": [],
   "source": []
  },
  {
   "cell_type": "code",
   "execution_count": null,
   "id": "66076997-1758-4a60-990f-7c177454d8f2",
   "metadata": {},
   "outputs": [],
   "source": []
  },
  {
   "cell_type": "code",
   "execution_count": null,
   "id": "d1891d69-b8b6-452e-bba0-b229a3d287a9",
   "metadata": {},
   "outputs": [],
   "source": []
  }
 ],
 "metadata": {
  "kernelspec": {
   "display_name": "Python 3 (ipykernel)",
   "language": "python",
   "name": "python3"
  },
  "language_info": {
   "codemirror_mode": {
    "name": "ipython",
    "version": 3
   },
   "file_extension": ".py",
   "mimetype": "text/x-python",
   "name": "python",
   "nbconvert_exporter": "python",
   "pygments_lexer": "ipython3",
   "version": "3.10.16"
  }
 },
 "nbformat": 4,
 "nbformat_minor": 5
}
